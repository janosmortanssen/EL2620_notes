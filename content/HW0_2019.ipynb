{
 "cells": [
  {
   "cell_type": "markdown",
   "metadata": {
    "hideCode": false,
    "hidePrompt": false
   },
   "source": [
    "# Homework 0 - Population dynamics\n",
    "![Lynx and hare](lynxhare.gif)\n",
    "Suppose that there is a grassy island supporting populations of two species $x$ and $y$. If the populations are large then it is reasonable to let the normalized populations be continuous functions of time (so that $x=1$ might represent a population of e.g., 1000 specimen). We propose the following simple model of the change in population:\n",
    "\\begin{equation}\n",
    "\\dot x(t) = f_x(x(t),y(t))=x(t)(a+bx(t)+cy(t))\\\\\n",
    "\\dot y(t) = f_y(x(t),y(t))=y(t)(d+ey(t)+fx(t))\\\\\n",
    "\\end{equation}\n",
    "where $x$ and $y$ are non-negative functions and $a$, $b$, . . . , $f$ are constants. Let us start with discussing the model heuristically to gain some insight. \n",
    "Consider first a single species with no interaction with the other: $\\dot x=x(a+bx)$. If $x$ is a herbivore (plant-eater) species it is reasonable to assume that it can maintain a certain population by itself (there will be enough food). If the initial population is small it will grow, hence $a>0$ , but if the population grows too large there will be more competition for food and more deceases will spread. Hence, $b<0$. This enables non-zero equilibria for the species when they are alone; the populations will not grow unbounded but reach an finite equilibrium. If $x$ is a carnivore (meat-eater) it requires the other (plant-eater) species in order to maintain a population. By itself it will die out, $a<0$. Also here we could argue that large populations increase the internal rivalry and then $b\\le0$. Equivalent conditions hold for the parameters $d$ and $e$ if we consider the species $y$. "
   ]
  },
  {
   "cell_type": "code",
   "execution_count": 7,
   "metadata": {
    "hideCode": false,
    "hideOutput": false,
    "hidePrompt": false
   },
   "outputs": [
    {
     "data": {
      "image/png": "[encoded data removed]",
      "text/plain": [
       "<Figure size 432x288 with 1 Axes>"
      ]
     },
     "metadata": {
      "needs_background": "light"
     },
     "output_type": "display_data"
    }
   ],
   "source": [
    "import numpy as np\n",
    "import matplotlib.pyplot as plt\n",
    "from scipy.integrate import odeint\n",
    "import ipywidgets as widgets\n",
    "def popdyn(z, t, a, b, c, d, e, f):\n",
    "    x, y = z\n",
    "    xdot = x*(a+b*x+c*y)\n",
    "    ydot = y*(d+e*y+f*x)\n",
    "    return [xdot, ydot]\n",
    "a = widgets.FloatSlider(\n",
    "    value=4,\n",
    "    min=0,\n",
    "    max=10.0,\n",
    "    step=0.1,\n",
    "    description='a:',\n",
    "    disabled=False,\n",
    "    continuous_update=False,\n",
    "    orientation='horizontal',\n",
    "    readout=True,\n",
    "    readout_format='.1f',\n",
    ")\n",
    "y0 = [np.pi,np.pi]\n",
    "t = np.linspace(0,20,1001)\n",
    "#def popdyn_plot(a):\n",
    "p = (4, -1, -2, -1, -0.5, 0.5)\n",
    "y = odeint(popdyn,y0,t,args=p)\n",
    "plt.plot(t,y)\n",
    "plt.show()\n",
    "#widgets.interact(popdyn_plot,a=a)\n"
   ]
  },
  {
   "cell_type": "code",
   "execution_count": 8,
   "metadata": {
    "hideCode": false,
    "hideOutput": false,
    "hidePrompt": false
   },
   "outputs": [
    {
     "data": {
      "image/png": "[encoded data removed]",
      "text/plain": [
       "<Figure size 432x288 with 1 Axes>"
      ]
     },
     "metadata": {
      "needs_background": "light"
     },
     "output_type": "display_data"
    }
   ],
   "source": [
    "plt.plot(t,y)\n",
    "plt.show()"
   ]
  },
  {
   "cell_type": "code",
   "execution_count": null,
   "metadata": {
    "hideCode": false,
    "hidePrompt": false
   },
   "outputs": [],
   "source": []
  },
  {
   "cell_type": "code",
   "execution_count": null,
   "metadata": {
    "hideCode": false,
    "hidePrompt": false
   },
   "outputs": [],
   "source": []
  },
  {
   "cell_type": "code",
   "execution_count": null,
   "metadata": {
    "hideCode": false,
    "hidePrompt": false
   },
   "outputs": [],
   "source": []
  },
  {
   "cell_type": "code",
   "execution_count": null,
   "metadata": {
    "hideCode": false,
    "hidePrompt": false
   },
   "outputs": [],
   "source": []
  }
 ],
 "metadata": {
  "celltoolbar": "Hide code",
  "hide_code_all_hidden": false,
  "kernelspec": {
   "display_name": "Python 3",
   "language": "python",
   "name": "python3"
  },
  "language_info": {
   "codemirror_mode": {
    "name": "ipython",
    "version": 3
   },
   "file_extension": ".py",
   "mimetype": "text/x-python",
   "name": "python",
   "nbconvert_exporter": "python",
   "pygments_lexer": "ipython3",
   "version": "3.7.3"
  }
 },
 "nbformat": 4,
 "nbformat_minor": 2
}
